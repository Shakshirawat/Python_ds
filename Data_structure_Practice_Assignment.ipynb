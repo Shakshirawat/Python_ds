{
  "cells": [
    {
      "cell_type": "markdown",
      "metadata": {
        "id": "view-in-github",
        "colab_type": "text"
      },
      "source": [
        "<a href=\"https://colab.research.google.com/github/Shakshirawat/Python_ds/blob/main/Data_structure_Practice_Assignment.ipynb\" target=\"_parent\"><img src=\"https://colab.research.google.com/assets/colab-badge.svg\" alt=\"Open In Colab\"/></a>"
      ]
    },
    {
      "cell_type": "markdown",
      "metadata": {
        "id": "8pRf9jW4fyVP"
      },
      "source": [
        "# Lists, Tuples, and Sets : Practice Assignment\n",
        "\n",
        "### Dear students these question will help you build a very strong foundation on data structures specificaly as data analyst\n",
        "\n",
        "Each problem has:\n",
        "- **Problem statement**\n",
        "- **What the expected answer should look like** (an example of the final result/state)\n",
        "- An **empty code cell** for you to solve it (look for `# write your code here`).\n",
        "\n",
        "> Tip: Run cells independently."
      ],
      "id": "8pRf9jW4fyVP"
    },
    {
      "cell_type": "markdown",
      "metadata": {
        "id": "dIbr5ZfofyVS"
      },
      "source": [
        "### List Q1\n",
        "\n",
        "**Problem:** Write a program to retrieve the value 4 from the list `my_list = [[1, 2], [3, 4], [5, 6]]` using indexing.\n",
        "\n",
        "**Expected answer should look like (example):**\n",
        "```\n",
        "4\n",
        "```"
      ],
      "id": "dIbr5ZfofyVS"
    },
    {
      "cell_type": "code",
      "execution_count": 1,
      "metadata": {
        "id": "qKpIQgUPfyVS",
        "colab": {
          "base_uri": "https://localhost:8080/"
        },
        "outputId": "e81aa111-ea70-4539-f7eb-fe921126b5b5"
      },
      "outputs": [
        {
          "output_type": "stream",
          "name": "stdout",
          "text": [
            "4\n"
          ]
        }
      ],
      "source": [
        "my_list = [[1, 2], [3, 4], [5, 6]]\n",
        "value_4 = my_list[1][1]\n",
        "print(value_4)"
      ],
      "id": "qKpIQgUPfyVS"
    },
    {
      "cell_type": "markdown",
      "metadata": {
        "id": "qErZqUJvfyVT"
      },
      "source": [
        "### List Q2\n",
        "\n",
        "**Problem:** Write a program to reverse the list `[10, 20, 30, 40, 50]` using slicing and explain how the slicing parameters achieve the result.\n",
        "\n",
        "**Expected answer should look like (example):**\n",
        "```\n",
        "[50, 40, 30, 20, 10]  # slicing: lst[::-1] (start:end:step=-1)\n",
        "```"
      ],
      "id": "qErZqUJvfyVT"
    },
    {
      "cell_type": "code",
      "execution_count": 2,
      "metadata": {
        "id": "Xb_G2R0GfyVT",
        "colab": {
          "base_uri": "https://localhost:8080/"
        },
        "outputId": "024ed826-9dd2-478f-d466-24ca9e531a5a"
      },
      "outputs": [
        {
          "output_type": "stream",
          "name": "stdout",
          "text": [
            "[50, 40, 30, 20, 10]\n"
          ]
        }
      ],
      "source": [
        "my_list = [10, 20, 30, 40, 50]\n",
        "reversed_list = my_list[::-1]\n",
        "print(reversed_list)"
      ],
      "id": "Xb_G2R0GfyVT"
    },
    {
      "cell_type": "markdown",
      "metadata": {
        "id": "wk0JTcZgfyVU"
      },
      "source": [
        "### List Q3\n",
        "\n",
        "**Problem:** Write a program to extract every second element from the list `[1, 2, 3, 4, 5, 6, 7, 8]` using slicing.\n",
        "\n",
        "**Expected answer should look like (example):**\n",
        "```\n",
        "[2, 4, 6, 8]\n",
        "```"
      ],
      "id": "wk0JTcZgfyVU"
    },
    {
      "cell_type": "code",
      "execution_count": 3,
      "metadata": {
        "id": "yRA2C-H5fyVU",
        "colab": {
          "base_uri": "https://localhost:8080/"
        },
        "outputId": "0c2c5118-1b27-4c6a-d173-f5ba647c9be1"
      },
      "outputs": [
        {
          "output_type": "stream",
          "name": "stdout",
          "text": [
            "[2, 4, 6, 8]\n"
          ]
        }
      ],
      "source": [
        "my_list = [1, 2, 3, 4, 5, 6, 7, 8]\n",
        "every_second_element = my_list[1::2]\n",
        "print(every_second_element)"
      ],
      "id": "yRA2C-H5fyVU"
    },
    {
      "cell_type": "markdown",
      "metadata": {
        "id": "oK9W1WZBfyVU"
      },
      "source": [
        "### List Q4\n",
        "\n",
        "**Problem:** Write a program to replace the middle two elements of the list `[10, 20, 30, 40, 50]` with `[99, 100, 101]` using slicing.\n",
        "\n",
        "**Expected answer should look like (example):**\n",
        "```\n",
        "[10, 20, 99, 100, 101, 50]\n",
        "```"
      ],
      "id": "oK9W1WZBfyVU"
    },
    {
      "cell_type": "code",
      "execution_count": 4,
      "metadata": {
        "id": "uB4t-1-FfyVU",
        "colab": {
          "base_uri": "https://localhost:8080/"
        },
        "outputId": "0bba3eda-ab35-4008-d4ec-c3bf66d79370"
      },
      "outputs": [
        {
          "output_type": "stream",
          "name": "stdout",
          "text": [
            "[10, 20, 99, 100, 101, 50]\n"
          ]
        }
      ],
      "source": [
        "my_list = [10, 20, 30, 40, 50]\n",
        "my_list[2:4] = [99, 100, 101]\n",
        "print(my_list)"
      ],
      "id": "uB4t-1-FfyVU"
    },
    {
      "cell_type": "markdown",
      "metadata": {
        "id": "mOp9HBHafyVU"
      },
      "source": [
        "### List Q5\n",
        "\n",
        "**Problem:** Write a program to transform the list `[1, 2, 3, 4, 5]` into `[1, 99, 100, 101, 4, 5]` by modifying a slice.\n",
        "\n",
        "**Expected answer should look like (example):**\n",
        "```\n",
        "[1, 99, 100, 101, 4, 5]\n",
        "```"
      ],
      "id": "mOp9HBHafyVU"
    },
    {
      "cell_type": "code",
      "execution_count": 70,
      "metadata": {
        "id": "STvMWW5GfyVV",
        "colab": {
          "base_uri": "https://localhost:8080/"
        },
        "outputId": "f818bb5d-79c0-4a96-bdaa-16134e33ef40"
      },
      "outputs": [
        {
          "output_type": "stream",
          "name": "stdout",
          "text": [
            "[1, 99, 100, 101, 5]\n"
          ]
        }
      ],
      "source": [
        "my_list = [1, 2, 3, 4, 5]\n",
        "my_list[1:4] = [99, 100, 101]\n",
        "print(my_list)"
      ],
      "id": "STvMWW5GfyVV"
    },
    {
      "cell_type": "markdown",
      "metadata": {
        "id": "YboV54EpfyVV"
      },
      "source": [
        "### List Q6\n",
        "\n",
        "**Problem:** Write a program to concatenate two lists without using the `+` operator.\n",
        "\n",
        "**Expected answer should look like (example):**\n",
        "```\n",
        "[...concatenated items...]  # e.g., via unpacking or extend\n",
        "```"
      ],
      "id": "YboV54EpfyVV"
    },
    {
      "cell_type": "code",
      "execution_count": 5,
      "metadata": {
        "id": "qEzZVAuGfyVV",
        "colab": {
          "base_uri": "https://localhost:8080/"
        },
        "outputId": "99dcb66f-23a7-40d4-f4e7-14dd1530d7fc"
      },
      "outputs": [
        {
          "output_type": "stream",
          "name": "stdout",
          "text": [
            "[1, 2, 3, 4, 5, 6]\n"
          ]
        }
      ],
      "source": [
        "list1 = [1, 2, 3]\n",
        "list2 = [4, 5, 6]\n",
        "list1.extend(list2)\n",
        "print(list1)"
      ],
      "id": "qEzZVAuGfyVV"
    },
    {
      "cell_type": "markdown",
      "metadata": {
        "id": "aiMDaI-CfyVV"
      },
      "source": [
        "### List Q7\n",
        "\n",
        "**Problem:** Write a program to demonstrate how the `extend` method behaves if the argument is a string using `my_list = [1, 2, 3]`.\n",
        "\n",
        "**Expected answer should look like (example):**\n",
        "```\n",
        "[1, 2, 3, 'a', 'b', 'c']  # e.g., my_list.extend('abc') adds each char\n",
        "```"
      ],
      "id": "aiMDaI-CfyVV"
    },
    {
      "cell_type": "code",
      "execution_count": 6,
      "metadata": {
        "id": "xYcujVcnfyVV",
        "colab": {
          "base_uri": "https://localhost:8080/"
        },
        "outputId": "c6e8b0b7-5c5a-4e34-e131-71e1f0be7763"
      },
      "outputs": [
        {
          "output_type": "stream",
          "name": "stdout",
          "text": [
            "[1, 2, 3, 'a', 'b', 'c']\n"
          ]
        }
      ],
      "source": [
        "my_list = [1, 2, 3]\n",
        "my_list.extend('abc')\n",
        "print(my_list)"
      ],
      "id": "xYcujVcnfyVV"
    },
    {
      "cell_type": "markdown",
      "metadata": {
        "id": "jDPtjjYrfyVV"
      },
      "source": [
        "### List Q8\n",
        "\n",
        "**Problem:** Write a program that uses `extend` to merge two lists in such a way that duplicates from the second list are not added.\n",
        "\n",
        "**Expected answer should look like (example):**\n",
        "```\n",
        "[merged_unique_list]  # second list's items only if not already present\n",
        "```"
      ],
      "id": "jDPtjjYrfyVV"
    },
    {
      "cell_type": "code",
      "execution_count": 7,
      "metadata": {
        "id": "MDSsR4YdfyVV",
        "colab": {
          "base_uri": "https://localhost:8080/"
        },
        "outputId": "693a2c1f-f0a8-4cb0-ed09-099e6da536fa"
      },
      "outputs": [
        {
          "output_type": "stream",
          "name": "stdout",
          "text": [
            "[1, 2, 3, 4, 5, 6]\n"
          ]
        }
      ],
      "source": [
        "list1 = [1, 2, 3, 4]\n",
        "list2 = [3, 4, 5, 6]\n",
        "unique_list2 = list(set(list2))\n",
        "list1.extend([item for item in unique_list2 if item not in list1])\n",
        "print(list1)"
      ],
      "id": "MDSsR4YdfyVV"
    },
    {
      "cell_type": "markdown",
      "metadata": {
        "id": "bnFHf3nKfyVV"
      },
      "source": [
        "### List Q9\n",
        "\n",
        "**Problem:** Write a program to create a list of 100 zeros using repetition and then replace every 10th element with 1.\n",
        "\n",
        "**Expected answer should look like (example):**\n",
        "```\n",
        "[1 appears at indices 9,19,29,...]\n",
        "```"
      ],
      "id": "bnFHf3nKfyVV"
    },
    {
      "cell_type": "code",
      "execution_count": 8,
      "metadata": {
        "id": "TnQW2Z11fyVV",
        "colab": {
          "base_uri": "https://localhost:8080/"
        },
        "outputId": "bcb7a998-416a-432c-d68d-e805a325677d"
      },
      "outputs": [
        {
          "output_type": "stream",
          "name": "stdout",
          "text": [
            "[0, 0, 0, 0, 0, 0, 0, 0, 0, 1, 0, 0, 0, 0, 0, 0, 0, 0, 0, 1, 0, 0, 0, 0, 0, 0, 0, 0, 0, 1, 0, 0, 0, 0, 0, 0, 0, 0, 0, 1, 0, 0, 0, 0, 0, 0, 0, 0, 0, 1, 0, 0, 0, 0, 0, 0, 0, 0, 0, 1, 0, 0, 0, 0, 0, 0, 0, 0, 0, 1, 0, 0, 0, 0, 0, 0, 0, 0, 0, 1, 0, 0, 0, 0, 0, 0, 0, 0, 0, 1, 0, 0, 0, 0, 0, 0, 0, 0, 0, 1]\n"
          ]
        }
      ],
      "source": [
        "my_list = [0] * 100\n",
        "for i in range(9, 100, 10):\n",
        "    my_list[i] = 1\n",
        "print(my_list)"
      ],
      "id": "TnQW2Z11fyVV"
    },
    {
      "cell_type": "markdown",
      "metadata": {
        "id": "g2UP8pXGfyVW"
      },
      "source": [
        "### List Q10\n",
        "\n",
        "**Problem:** Write a Python command without using a loop to check if **all** the elements of `[2, 4]` are present in the list `[1, 2, 3, 4, 5]`.\n",
        "\n",
        "**Expected answer should look like (example):**\n",
        "```\n",
        "True  # e.g., set([2,4]).issubset([1,2,3,4,5])\n",
        "```"
      ],
      "id": "g2UP8pXGfyVW"
    },
    {
      "cell_type": "code",
      "execution_count": 9,
      "metadata": {
        "id": "R8-l25c4fyVW",
        "colab": {
          "base_uri": "https://localhost:8080/"
        },
        "outputId": "1c3abb73-80da-4ef1-e233-de731fc2177c"
      },
      "outputs": [
        {
          "output_type": "stream",
          "name": "stdout",
          "text": [
            "True\n"
          ]
        }
      ],
      "source": [
        "list1 = [2, 4]\n",
        "list2 = [1, 2, 3, 4, 5]\n",
        "print(set(list1).issubset(set(list2)))"
      ],
      "id": "R8-l25c4fyVW"
    },
    {
      "cell_type": "markdown",
      "metadata": {
        "id": "aWvONtsUfyVW"
      },
      "source": [
        "### List Q11\n",
        "\n",
        "**Problem:** Write a program to use `not in` to filter out all the elements of a list that exist in another list, e.g., removing elements in `[2, 4]` from `[1, 2, 3, 4, 5]`.\n",
        "\n",
        "**Expected answer should look like (example):**\n",
        "```\n",
        "[1, 3, 5]\n",
        "```"
      ],
      "id": "aWvONtsUfyVW"
    },
    {
      "cell_type": "code",
      "execution_count": 10,
      "metadata": {
        "id": "5RM0kWVufyVW",
        "colab": {
          "base_uri": "https://localhost:8080/"
        },
        "outputId": "2db9af09-4042-4359-8cdc-0e16a2ae86e4"
      },
      "outputs": [
        {
          "output_type": "stream",
          "name": "stdout",
          "text": [
            "[1, 3, 5]\n"
          ]
        }
      ],
      "source": [
        "list1 = [1, 2, 3, 4, 5]\n",
        "list2 = [2, 4]\n",
        "filtered_list = [item for item in list1 if item not in list2]\n",
        "print(filtered_list)"
      ],
      "id": "5RM0kWVufyVW"
    },
    {
      "cell_type": "markdown",
      "metadata": {
        "id": "gFcNPkVMfyVW"
      },
      "source": [
        "### List Q12\n",
        "\n",
        "**Problem:** Create a list of integers from 1 to 10.\n",
        "\n",
        "**Expected answer should look like (example):**\n",
        "```\n",
        "[1, 2, 3, 4, 5, 6, 7, 8, 9, 10]\n",
        "```"
      ],
      "id": "gFcNPkVMfyVW"
    },
    {
      "cell_type": "code",
      "execution_count": 11,
      "metadata": {
        "id": "OMf9DKBffyVW",
        "colab": {
          "base_uri": "https://localhost:8080/"
        },
        "outputId": "7a8167a8-7c11-4d34-dcb3-b87a7220e188"
      },
      "outputs": [
        {
          "output_type": "stream",
          "name": "stdout",
          "text": [
            "[1, 2, 3, 4, 5, 6, 7, 8, 9, 10]\n"
          ]
        }
      ],
      "source": [
        "my_list = list(range(1, 11))\n",
        "print(my_list)"
      ],
      "id": "OMf9DKBffyVW"
    },
    {
      "cell_type": "markdown",
      "metadata": {
        "id": "qLAAloubfyVW"
      },
      "source": [
        "### List Q13\n",
        "\n",
        "**Problem:** Add an element to the end of a list using `append()`.\n",
        "\n",
        "**Expected answer should look like (example):**\n",
        "```\n",
        "[...original..., 99]\n",
        "```"
      ],
      "id": "qLAAloubfyVW"
    },
    {
      "cell_type": "code",
      "execution_count": 12,
      "metadata": {
        "id": "JAEwIYJUfyVW",
        "colab": {
          "base_uri": "https://localhost:8080/"
        },
        "outputId": "e5908b6e-17ed-42ad-a34d-0fd76d724032"
      },
      "outputs": [
        {
          "output_type": "stream",
          "name": "stdout",
          "text": [
            "[1, 2, 3, 99]\n"
          ]
        }
      ],
      "source": [
        "my_list = [1, 2, 3]\n",
        "my_list.append(99)\n",
        "print(my_list)"
      ],
      "id": "JAEwIYJUfyVW"
    },
    {
      "cell_type": "markdown",
      "metadata": {
        "id": "7FZcvrd6fyVW"
      },
      "source": [
        "### List Q14\n",
        "\n",
        "**Problem:** Insert an element at the second position in a list.\n",
        "\n",
        "**Expected answer should look like (example):**\n",
        "```\n",
        "[first, NEW, rest...]\n",
        "```"
      ],
      "id": "7FZcvrd6fyVW"
    },
    {
      "cell_type": "code",
      "execution_count": 13,
      "metadata": {
        "id": "xSlSO0mOfyVW",
        "colab": {
          "base_uri": "https://localhost:8080/"
        },
        "outputId": "d8afc85a-9cdd-4a44-ca90-c985fe223dd4"
      },
      "outputs": [
        {
          "output_type": "stream",
          "name": "stdout",
          "text": [
            "[1, 99, 2, 3, 4]\n"
          ]
        }
      ],
      "source": [
        "my_list = [1, 2, 3, 4]\n",
        "my_list.insert(1, 99)\n",
        "print(my_list)"
      ],
      "id": "xSlSO0mOfyVW"
    },
    {
      "cell_type": "markdown",
      "metadata": {
        "id": "lvazvs0efyVW"
      },
      "source": [
        "### List Q15\n",
        "\n",
        "**Problem:** Remove an element from a list using `remove()`.\n",
        "\n",
        "**Expected answer should look like (example):**\n",
        "```\n",
        "[list without that value]\n",
        "```"
      ],
      "id": "lvazvs0efyVW"
    },
    {
      "cell_type": "code",
      "execution_count": 14,
      "metadata": {
        "id": "IWI8ZjrPfyVW",
        "colab": {
          "base_uri": "https://localhost:8080/"
        },
        "outputId": "bdae56fa-ad1a-485d-df6e-035b3961851f"
      },
      "outputs": [
        {
          "output_type": "stream",
          "name": "stdout",
          "text": [
            "[1, 2, 4, 3]\n"
          ]
        }
      ],
      "source": [
        "my_list = [1, 2, 3, 4, 3]\n",
        "my_list.remove(3)\n",
        "print(my_list)"
      ],
      "id": "IWI8ZjrPfyVW"
    },
    {
      "cell_type": "markdown",
      "metadata": {
        "id": "Se9S-xEmfyVW"
      },
      "source": [
        "### List Q16\n",
        "\n",
        "**Problem:** Remove and return the last element of a list using `pop()`.\n",
        "\n",
        "**Expected answer should look like (example):**\n",
        "```\n",
        "popped_value  # and list becomes [..., without last]\n",
        "```"
      ],
      "id": "Se9S-xEmfyVW"
    },
    {
      "cell_type": "code",
      "execution_count": 15,
      "metadata": {
        "id": "WHUV0hJefyVW",
        "colab": {
          "base_uri": "https://localhost:8080/"
        },
        "outputId": "db6fc96f-004c-410f-910d-3cb99d1d62b3"
      },
      "outputs": [
        {
          "output_type": "stream",
          "name": "stdout",
          "text": [
            "4\n",
            "[1, 2, 3]\n"
          ]
        }
      ],
      "source": [
        "my_list = [1, 2, 3, 4]\n",
        "popped_value = my_list.pop()\n",
        "print(popped_value)\n",
        "print(my_list)"
      ],
      "id": "WHUV0hJefyVW"
    },
    {
      "cell_type": "markdown",
      "metadata": {
        "id": "Cdiq_m0ufyVX"
      },
      "source": [
        "### List Q17\n",
        "\n",
        "**Problem:** Find the length of a list **without** using the `len()` function.\n",
        "\n",
        "**Expected answer should look like (example):**\n",
        "```\n",
        "10  # manual count with loop\n",
        "```"
      ],
      "id": "Cdiq_m0ufyVX"
    },
    {
      "cell_type": "code",
      "execution_count": 16,
      "metadata": {
        "id": "zDB8NF_XfyVX",
        "colab": {
          "base_uri": "https://localhost:8080/"
        },
        "outputId": "b144f255-b5f6-424d-a405-31cd88c274d7"
      },
      "outputs": [
        {
          "output_type": "stream",
          "name": "stdout",
          "text": [
            "5\n"
          ]
        }
      ],
      "source": [
        "my_list = [1, 2, 3, 4, 5]\n",
        "count = 0\n",
        "for item in my_list:\n",
        "    count += 1\n",
        "print(count)"
      ],
      "id": "zDB8NF_XfyVX"
    },
    {
      "cell_type": "markdown",
      "metadata": {
        "id": "PJjb0FSafyVX"
      },
      "source": [
        "### List Q18\n",
        "\n",
        "**Problem:** Slice a list to get the first 5 elements.\n",
        "\n",
        "**Expected answer should look like (example):**\n",
        "```\n",
        "lst[:5] -> first five elements\n",
        "```"
      ],
      "id": "PJjb0FSafyVX"
    },
    {
      "cell_type": "code",
      "execution_count": 17,
      "metadata": {
        "id": "Hgf3_8IcfyVX",
        "colab": {
          "base_uri": "https://localhost:8080/"
        },
        "outputId": "5e8eb78e-25f0-4422-958c-632479a3da8b"
      },
      "outputs": [
        {
          "output_type": "stream",
          "name": "stdout",
          "text": [
            "[1, 2, 3, 4, 5]\n"
          ]
        }
      ],
      "source": [
        "my_list = [1, 2, 3, 4, 5, 6, 7, 8, 9, 10]\n",
        "first_five = my_list[:5]\n",
        "print(first_five)"
      ],
      "id": "Hgf3_8IcfyVX"
    },
    {
      "cell_type": "markdown",
      "metadata": {
        "id": "vy6IHVyxfyVX"
      },
      "source": [
        "### List Q19\n",
        "\n",
        "**Problem:** Reverse a list using slicing.\n",
        "\n",
        "**Expected answer should look like (example):**\n",
        "```\n",
        "reversed_list  # lst[::-1]\n",
        "```"
      ],
      "id": "vy6IHVyxfyVX"
    },
    {
      "cell_type": "code",
      "execution_count": 18,
      "metadata": {
        "id": "-GzdbhQzfyVX",
        "colab": {
          "base_uri": "https://localhost:8080/"
        },
        "outputId": "23c62644-74b6-45fc-b275-32c71a0d0940"
      },
      "outputs": [
        {
          "output_type": "stream",
          "name": "stdout",
          "text": [
            "[50, 40, 30, 20, 10]\n"
          ]
        }
      ],
      "source": [
        "my_list = [10, 20, 30, 40, 50]\n",
        "reversed_list = my_list[::-1]\n",
        "print(reversed_list)"
      ],
      "id": "-GzdbhQzfyVX"
    },
    {
      "cell_type": "markdown",
      "metadata": {
        "id": "HrmHD5tHfyVb"
      },
      "source": [
        "### List Q20\n",
        "\n",
        "**Problem:** Check if an element exists in a list using `in`.\n",
        "\n",
        "**Expected answer should look like (example):**\n",
        "```\n",
        "True/False\n",
        "```"
      ],
      "id": "HrmHD5tHfyVb"
    },
    {
      "cell_type": "code",
      "execution_count": 19,
      "metadata": {
        "id": "j83Skl7sfyVb",
        "colab": {
          "base_uri": "https://localhost:8080/"
        },
        "outputId": "d3e37b10-f01f-43fb-e99f-289c055afa47"
      },
      "outputs": [
        {
          "output_type": "stream",
          "name": "stdout",
          "text": [
            "True\n"
          ]
        }
      ],
      "source": [
        "my_list = [1, 2, 3, 4, 5]\n",
        "element_to_check = 3\n",
        "print(element_to_check in my_list)"
      ],
      "id": "j83Skl7sfyVb"
    },
    {
      "cell_type": "markdown",
      "metadata": {
        "id": "K51fd9txfyVb"
      },
      "source": [
        "### List Q21\n",
        "\n",
        "**Problem:** Concatenate two lists using the `+` operator.\n",
        "\n",
        "**Expected answer should look like (example):**\n",
        "```\n",
        "[combined elements]\n",
        "```"
      ],
      "id": "K51fd9txfyVb"
    },
    {
      "cell_type": "code",
      "execution_count": 20,
      "metadata": {
        "id": "VjBkHE1WfyVb",
        "colab": {
          "base_uri": "https://localhost:8080/"
        },
        "outputId": "b4c05203-3ce1-43f8-e514-7d57b0a88f6e"
      },
      "outputs": [
        {
          "output_type": "stream",
          "name": "stdout",
          "text": [
            "[1, 2, 3, 4, 5, 6]\n"
          ]
        }
      ],
      "source": [
        "list1 = [1, 2, 3]\n",
        "list2 = [4, 5, 6]\n",
        "concatenated_list = list1 + list2\n",
        "print(concatenated_list)"
      ],
      "id": "VjBkHE1WfyVb"
    },
    {
      "cell_type": "markdown",
      "metadata": {
        "id": "UrDqHcRPfyVb"
      },
      "source": [
        "### List Q22\n",
        "\n",
        "**Problem:** Find the sum of all elements in a list.\n",
        "\n",
        "**Expected answer should look like (example):**\n",
        "```\n",
        "numeric_sum\n",
        "```"
      ],
      "id": "UrDqHcRPfyVb"
    },
    {
      "cell_type": "code",
      "execution_count": 21,
      "metadata": {
        "id": "ngMHgBd_fyVb",
        "colab": {
          "base_uri": "https://localhost:8080/"
        },
        "outputId": "2957e7a9-e307-42df-87fd-78d76b1622ed"
      },
      "outputs": [
        {
          "output_type": "stream",
          "name": "stdout",
          "text": [
            "15\n"
          ]
        }
      ],
      "source": [
        "my_list = [1, 2, 3, 4, 5]\n",
        "total_sum = sum(my_list)\n",
        "print(total_sum)"
      ],
      "id": "ngMHgBd_fyVb"
    },
    {
      "cell_type": "markdown",
      "metadata": {
        "id": "wSQRcLcNfyVb"
      },
      "source": [
        "### List Q23\n",
        "\n",
        "**Problem:** Use list comprehension to generate a list of odd numbers from 1 to 10.\n",
        "\n",
        "**Expected answer should look like (example):**\n",
        "```\n",
        "[1, 3, 5, 7, 9]\n",
        "```"
      ],
      "id": "wSQRcLcNfyVb"
    },
    {
      "cell_type": "code",
      "execution_count": 22,
      "metadata": {
        "id": "6aBwuaj2fyVc",
        "colab": {
          "base_uri": "https://localhost:8080/"
        },
        "outputId": "0ced3bb2-5c5d-4671-bca0-3a40b7d5f495"
      },
      "outputs": [
        {
          "output_type": "stream",
          "name": "stdout",
          "text": [
            "[1, 3, 5, 7, 9]\n"
          ]
        }
      ],
      "source": [
        "odd_numbers = [x for x in range(1, 11) if x % 2 != 0]\n",
        "print(odd_numbers)"
      ],
      "id": "6aBwuaj2fyVc"
    },
    {
      "cell_type": "markdown",
      "metadata": {
        "id": "IQEJlGtWfyVc"
      },
      "source": [
        "### List Q24\n",
        "\n",
        "**Problem:** Convert a list with duplicate elements into a set to remove duplicates.\n",
        "\n",
        "**Expected answer should look like (example):**\n",
        "```\n",
        "{unique_elements}\n",
        "```"
      ],
      "id": "IQEJlGtWfyVc"
    },
    {
      "cell_type": "code",
      "execution_count": 23,
      "metadata": {
        "id": "2L_StV1tfyVc",
        "colab": {
          "base_uri": "https://localhost:8080/"
        },
        "outputId": "a1da4094-9c40-4165-c7ee-ff8c2353cf4c"
      },
      "outputs": [
        {
          "output_type": "stream",
          "name": "stdout",
          "text": [
            "{1, 2, 3, 4, 5}\n"
          ]
        }
      ],
      "source": [
        "my_list = [1, 2, 2, 3, 4, 4, 5]\n",
        "my_set = set(my_list)\n",
        "print(my_set)"
      ],
      "id": "2L_StV1tfyVc"
    },
    {
      "cell_type": "markdown",
      "metadata": {
        "id": "EELV4nHgfyVc"
      },
      "source": [
        "### List Q25\n",
        "\n",
        "**Problem:** Convert a string to a list of its characters.\n",
        "\n",
        "**Expected answer should look like (example):**\n",
        "```\n",
        "['h','e','l','l','o']\n",
        "```"
      ],
      "id": "EELV4nHgfyVc"
    },
    {
      "cell_type": "code",
      "execution_count": 24,
      "metadata": {
        "id": "RtuvzGP7fyVc",
        "colab": {
          "base_uri": "https://localhost:8080/"
        },
        "outputId": "6e8bcc37-6370-45e8-e556-6235c1d818d2"
      },
      "outputs": [
        {
          "output_type": "stream",
          "name": "stdout",
          "text": [
            "['h', 'e', 'l', 'l', 'o']\n"
          ]
        }
      ],
      "source": [
        "my_string = \"hello\"\n",
        "my_list = list(my_string)\n",
        "print(my_list)"
      ],
      "id": "RtuvzGP7fyVc"
    },
    {
      "cell_type": "markdown",
      "metadata": {
        "id": "7h2II8C9fyVc"
      },
      "source": [
        "### List Q26\n",
        "\n",
        "**Problem:** Multiply all items in a list using a loop.\n",
        "\n",
        "**Expected answer should look like (example):**\n",
        "```\n",
        "product_value\n",
        "```"
      ],
      "id": "7h2II8C9fyVc"
    },
    {
      "cell_type": "code",
      "execution_count": 25,
      "metadata": {
        "id": "JvKxVBchfyVc",
        "colab": {
          "base_uri": "https://localhost:8080/"
        },
        "outputId": "4729d146-242b-4b18-a75a-8aefc4eaf1fe"
      },
      "outputs": [
        {
          "output_type": "stream",
          "name": "stdout",
          "text": [
            "120\n"
          ]
        }
      ],
      "source": [
        "my_list = [1, 2, 3, 4, 5]\n",
        "product = 1\n",
        "for item in my_list:\n",
        "    product *= item\n",
        "print(product)"
      ],
      "id": "JvKxVBchfyVc"
    },
    {
      "cell_type": "markdown",
      "metadata": {
        "id": "Na-zJ1YdfyVc"
      },
      "source": [
        "### List Q27\n",
        "\n",
        "**Problem:** Sort a list of numbers in ascending order.\n",
        "\n",
        "**Expected answer should look like (example):**\n",
        "```\n",
        "[sorted numbers asc]\n",
        "```"
      ],
      "id": "Na-zJ1YdfyVc"
    },
    {
      "cell_type": "code",
      "execution_count": 26,
      "metadata": {
        "id": "DFe5IEEAfyVc",
        "colab": {
          "base_uri": "https://localhost:8080/"
        },
        "outputId": "1050fd95-84be-4ff5-fd78-0e4a9318e843"
      },
      "outputs": [
        {
          "output_type": "stream",
          "name": "stdout",
          "text": [
            "[1, 2, 5, 8, 9]\n"
          ]
        }
      ],
      "source": [
        "my_list = [5, 2, 8, 1, 9]\n",
        "my_list.sort()\n",
        "print(my_list)"
      ],
      "id": "DFe5IEEAfyVc"
    },
    {
      "cell_type": "markdown",
      "metadata": {
        "id": "qZW5tg5rfyVc"
      },
      "source": [
        "### List Q28\n",
        "\n",
        "**Problem:** Clear all elements from a list using `clear()`.\n",
        "\n",
        "**Expected answer should look like (example):**\n",
        "```\n",
        "[]\n",
        "```"
      ],
      "id": "qZW5tg5rfyVc"
    },
    {
      "cell_type": "code",
      "execution_count": 27,
      "metadata": {
        "id": "jso3gUtvfyVc",
        "colab": {
          "base_uri": "https://localhost:8080/"
        },
        "outputId": "8c8d65a7-4fb6-4a2b-df2a-cf27aa8dcabd"
      },
      "outputs": [
        {
          "output_type": "stream",
          "name": "stdout",
          "text": [
            "[]\n"
          ]
        }
      ],
      "source": [
        "my_list = [1, 2, 3, 4, 5]\n",
        "my_list.clear()\n",
        "print(my_list)"
      ],
      "id": "jso3gUtvfyVc"
    },
    {
      "cell_type": "markdown",
      "metadata": {
        "id": "G751txAVfyVc"
      },
      "source": [
        "### List Q29\n",
        "\n",
        "**Problem:** Use a `while` loop to iterate through a list.\n",
        "\n",
        "**Expected answer should look like (example):**\n",
        "```\n",
        "each element printed/processed\n",
        "```"
      ],
      "id": "G751txAVfyVc"
    },
    {
      "cell_type": "code",
      "execution_count": 28,
      "metadata": {
        "id": "VVnSkIvPfyVd",
        "colab": {
          "base_uri": "https://localhost:8080/"
        },
        "outputId": "53e1d351-21fe-4079-9e26-34b20e687aae"
      },
      "outputs": [
        {
          "output_type": "stream",
          "name": "stdout",
          "text": [
            "1\n",
            "2\n",
            "3\n",
            "4\n",
            "5\n"
          ]
        }
      ],
      "source": [
        "my_list = [1, 2, 3, 4, 5]\n",
        "index = 0\n",
        "while index < len(my_list):\n",
        "    print(my_list[index])\n",
        "    index += 1"
      ],
      "id": "VVnSkIvPfyVd"
    },
    {
      "cell_type": "markdown",
      "metadata": {
        "id": "cduQw_jHfyVd"
      },
      "source": [
        "### List Q30\n",
        "\n",
        "**Problem:** Use a `for` loop with `enumerate()` to print index and value.\n",
        "\n",
        "**Expected answer should look like (example):**\n",
        "```\n",
        "index: value\n",
        "```"
      ],
      "id": "cduQw_jHfyVd"
    },
    {
      "cell_type": "code",
      "execution_count": 29,
      "metadata": {
        "id": "oeZBqKEOfyVd",
        "colab": {
          "base_uri": "https://localhost:8080/"
        },
        "outputId": "50cefd74-8c9c-4914-c4c1-31e16e858464"
      },
      "outputs": [
        {
          "output_type": "stream",
          "name": "stdout",
          "text": [
            "Index: 0, Value: apple\n",
            "Index: 1, Value: banana\n",
            "Index: 2, Value: cherry\n"
          ]
        }
      ],
      "source": [
        "my_list = [\"apple\", \"banana\", \"cherry\"]\n",
        "for index, value in enumerate(my_list):\n",
        "    print(f\"Index: {index}, Value: {value}\")"
      ],
      "id": "oeZBqKEOfyVd"
    },
    {
      "cell_type": "markdown",
      "metadata": {
        "id": "zFd9UtnbfyVd"
      },
      "source": [
        "### List Q31\n",
        "\n",
        "**Problem:** Find the index of an element in a list using `index()`.\n",
        "\n",
        "**Expected answer should look like (example):**\n",
        "```\n",
        "integer_index\n",
        "```"
      ],
      "id": "zFd9UtnbfyVd"
    },
    {
      "cell_type": "code",
      "execution_count": 30,
      "metadata": {
        "id": "cPlSAo-8fyVd",
        "colab": {
          "base_uri": "https://localhost:8080/"
        },
        "outputId": "c31861f1-0270-4dae-d115-43243013a2c7"
      },
      "outputs": [
        {
          "output_type": "stream",
          "name": "stdout",
          "text": [
            "2\n"
          ]
        }
      ],
      "source": [
        "my_list = [10, 20, 30, 40, 50]\n",
        "index_of_30 = my_list.index(30)\n",
        "print(index_of_30)"
      ],
      "id": "cPlSAo-8fyVd"
    },
    {
      "cell_type": "markdown",
      "metadata": {
        "id": "gbu56yUMfyVd"
      },
      "source": [
        "### Tuples Q1\n",
        "\n",
        "**Problem:** Create a tuple with elements from 1 to 5.\n",
        "\n",
        "**Expected answer should look like (example):**\n",
        "```\n",
        "(1, 2, 3, 4, 5)\n",
        "```"
      ],
      "id": "gbu56yUMfyVd"
    },
    {
      "cell_type": "code",
      "execution_count": 31,
      "metadata": {
        "id": "eO6CeCapfyVd",
        "colab": {
          "base_uri": "https://localhost:8080/"
        },
        "outputId": "71489da4-5351-4b5d-e939-354cb6fc9625"
      },
      "outputs": [
        {
          "output_type": "stream",
          "name": "stdout",
          "text": [
            "(1, 2, 3, 4, 5)\n"
          ]
        }
      ],
      "source": [
        "my_tuple = (1, 2, 3, 4, 5)\n",
        "print(my_tuple)"
      ],
      "id": "eO6CeCapfyVd"
    },
    {
      "cell_type": "markdown",
      "metadata": {
        "id": "bL2uXcsyfyVd"
      },
      "source": [
        "### Tuples Q2\n",
        "\n",
        "**Problem:** Access the third element in a tuple.\n",
        "\n",
        "**Expected answer should look like (example):**\n",
        "```\n",
        "value_at_index_2\n",
        "```"
      ],
      "id": "bL2uXcsyfyVd"
    },
    {
      "cell_type": "code",
      "execution_count": 32,
      "metadata": {
        "id": "CcmxEwb5fyVd",
        "colab": {
          "base_uri": "https://localhost:8080/"
        },
        "outputId": "2fc804c0-3f06-4664-fddf-057548f29456"
      },
      "outputs": [
        {
          "output_type": "stream",
          "name": "stdout",
          "text": [
            "30\n"
          ]
        }
      ],
      "source": [
        "my_tuple = (10, 20, 30, 40, 50)\n",
        "third_element = my_tuple[2]\n",
        "print(third_element)"
      ],
      "id": "CcmxEwb5fyVd"
    },
    {
      "cell_type": "markdown",
      "metadata": {
        "id": "yVfJnjdIfyVd"
      },
      "source": [
        "### Tuples Q3\n",
        "\n",
        "**Problem:** Slice a tuple to get the last 3 elements.\n",
        "\n",
        "**Expected answer should look like (example):**\n",
        "```\n",
        "(last3,)\n",
        "```"
      ],
      "id": "yVfJnjdIfyVd"
    },
    {
      "cell_type": "code",
      "execution_count": 33,
      "metadata": {
        "id": "_Flfm1X0fyVd",
        "colab": {
          "base_uri": "https://localhost:8080/"
        },
        "outputId": "885855b6-2667-440d-efa6-3acf5b1213ae"
      },
      "outputs": [
        {
          "output_type": "stream",
          "name": "stdout",
          "text": [
            "(30, 40, 50)\n"
          ]
        }
      ],
      "source": [
        "my_tuple = (10, 20, 30, 40, 50)\n",
        "last_three = my_tuple[-3:]\n",
        "print(last_three)"
      ],
      "id": "_Flfm1X0fyVd"
    },
    {
      "cell_type": "markdown",
      "metadata": {
        "id": "qWC68fe8fyVd"
      },
      "source": [
        "### Tuples Q4\n",
        "\n",
        "**Problem:** Check if an element exists in a tuple using `in`.\n",
        "\n",
        "**Expected answer should look like (example):**\n",
        "```\n",
        "True/False\n",
        "```"
      ],
      "id": "qWC68fe8fyVd"
    },
    {
      "cell_type": "code",
      "execution_count": 34,
      "metadata": {
        "id": "LBZY1QqbfyVd",
        "colab": {
          "base_uri": "https://localhost:8080/"
        },
        "outputId": "6da744b6-322d-4e05-a87f-658973510bd8"
      },
      "outputs": [
        {
          "output_type": "stream",
          "name": "stdout",
          "text": [
            "True\n"
          ]
        }
      ],
      "source": [
        "my_tuple = (1, 2, 3, 4, 5)\n",
        "element_to_check = 3\n",
        "print(element_to_check in my_tuple)"
      ],
      "id": "LBZY1QqbfyVd"
    },
    {
      "cell_type": "markdown",
      "metadata": {
        "id": "MHDJ8V3pfyVe"
      },
      "source": [
        "### Tuples Q5\n",
        "\n",
        "**Problem:** Find the index of an element in a tuple.\n",
        "\n",
        "**Expected answer should look like (example):**\n",
        "```\n",
        "integer_index\n",
        "```"
      ],
      "id": "MHDJ8V3pfyVe"
    },
    {
      "cell_type": "code",
      "execution_count": 35,
      "metadata": {
        "id": "lIuu_klOfyVe",
        "colab": {
          "base_uri": "https://localhost:8080/"
        },
        "outputId": "dc0ba5a5-414f-4e04-8c19-12484db95bcb"
      },
      "outputs": [
        {
          "output_type": "stream",
          "name": "stdout",
          "text": [
            "2\n"
          ]
        }
      ],
      "source": [
        "my_tuple = (10, 20, 30, 40, 50)\n",
        "index_of_30 = my_tuple.index(30)\n",
        "print(index_of_30)"
      ],
      "id": "lIuu_klOfyVe"
    },
    {
      "cell_type": "markdown",
      "metadata": {
        "id": "qdDgmuL3fyVe"
      },
      "source": [
        "### Tuples Q6\n",
        "\n",
        "**Problem:** Count the occurrences of an element in a tuple.\n",
        "\n",
        "**Expected answer should look like (example):**\n",
        "```\n",
        "count_value\n",
        "```"
      ],
      "id": "qdDgmuL3fyVe"
    },
    {
      "cell_type": "code",
      "execution_count": 36,
      "metadata": {
        "id": "ZKBvIlJzfyVe",
        "colab": {
          "base_uri": "https://localhost:8080/"
        },
        "outputId": "97fc68d2-5598-48c1-be3e-d64dc1539fb8"
      },
      "outputs": [
        {
          "output_type": "stream",
          "name": "stdout",
          "text": [
            "3\n"
          ]
        }
      ],
      "source": [
        "my_tuple = (1, 2, 2, 3, 4, 2, 5)\n",
        "count_of_2 = my_tuple.count(2)\n",
        "print(count_of_2)"
      ],
      "id": "ZKBvIlJzfyVe"
    },
    {
      "cell_type": "markdown",
      "metadata": {
        "id": "FphgWkIKfyVe"
      },
      "source": [
        "### Tuples Q7\n",
        "\n",
        "**Problem:** Create a nested tuple and access an element from it.\n",
        "\n",
        "**Expected answer should look like (example):**\n",
        "```\n",
        "nested_value\n",
        "```"
      ],
      "id": "FphgWkIKfyVe"
    },
    {
      "cell_type": "code",
      "execution_count": 37,
      "metadata": {
        "id": "HnvdVBUNfyVe",
        "colab": {
          "base_uri": "https://localhost:8080/"
        },
        "outputId": "8c78192f-2ac4-42b8-85ff-4a1f8957a15f"
      },
      "outputs": [
        {
          "output_type": "stream",
          "name": "stdout",
          "text": [
            "4\n"
          ]
        }
      ],
      "source": [
        "nested_tuple = ((1, 2), (3, 4), (5, 6))\n",
        "nested_value = nested_tuple[1][1]\n",
        "print(nested_value)"
      ],
      "id": "HnvdVBUNfyVe"
    },
    {
      "cell_type": "markdown",
      "metadata": {
        "id": "cJGrrJa3fyVe"
      },
      "source": [
        "### Tuples Q8\n",
        "\n",
        "**Problem:** Check if two tuples are equal.\n",
        "\n",
        "**Expected answer should look like (example):**\n",
        "```\n",
        "True/False\n",
        "```"
      ],
      "id": "cJGrrJa3fyVe"
    },
    {
      "cell_type": "code",
      "execution_count": 38,
      "metadata": {
        "id": "yrtoIoESfyVe",
        "colab": {
          "base_uri": "https://localhost:8080/"
        },
        "outputId": "681a9352-d37c-4432-de19-3dfb4897b60c"
      },
      "outputs": [
        {
          "output_type": "stream",
          "name": "stdout",
          "text": [
            "True\n",
            "False\n"
          ]
        }
      ],
      "source": [
        "tuple1 = (1, 2, 3)\n",
        "tuple2 = (1, 2, 3)\n",
        "tuple3 = (4, 5, 6)\n",
        "print(tuple1 == tuple2)\n",
        "print(tuple1 == tuple3)"
      ],
      "id": "yrtoIoESfyVe"
    },
    {
      "cell_type": "markdown",
      "metadata": {
        "id": "-LNfyhfEfyVe"
      },
      "source": [
        "### Tuples Q9\n",
        "\n",
        "**Problem:** Convert a list to a tuple.\n",
        "\n",
        "**Expected answer should look like (example):**\n",
        "```\n",
        "tuple(list)\n",
        "```"
      ],
      "id": "-LNfyhfEfyVe"
    },
    {
      "cell_type": "code",
      "execution_count": 69,
      "metadata": {
        "id": "qVjr5RJFfyVe",
        "colab": {
          "base_uri": "https://localhost:8080/"
        },
        "outputId": "ad11caa1-8499-4a27-d22d-cff5edf82a56"
      },
      "outputs": [
        {
          "output_type": "stream",
          "name": "stdout",
          "text": [
            "(1, 2, 3, 4, 5)\n"
          ]
        }
      ],
      "source": [
        "my_list = [1, 2, 3, 4, 5]\n",
        "my_tuple = tuple(my_list)\n",
        "print(my_tuple)"
      ],
      "id": "qVjr5RJFfyVe"
    },
    {
      "cell_type": "markdown",
      "metadata": {
        "id": "2z6vK3lcfyVe"
      },
      "source": [
        "### Tuples Q10\n",
        "\n",
        "**Problem:** Create a tuple of integers and find its sum.\n",
        "\n",
        "**Expected answer should look like (example):**\n",
        "```\n",
        "sum_value\n",
        "```"
      ],
      "id": "2z6vK3lcfyVe"
    },
    {
      "cell_type": "code",
      "execution_count": 39,
      "metadata": {
        "id": "2wvATIXwfyVe",
        "colab": {
          "base_uri": "https://localhost:8080/"
        },
        "outputId": "9fa4c87d-78a2-4cda-bcd8-96de2f4ed181"
      },
      "outputs": [
        {
          "output_type": "stream",
          "name": "stdout",
          "text": [
            "15\n"
          ]
        }
      ],
      "source": [
        "my_tuple = (1, 2, 3, 4, 5)\n",
        "total_sum = sum(my_tuple)\n",
        "print(total_sum)"
      ],
      "id": "2wvATIXwfyVe"
    },
    {
      "cell_type": "markdown",
      "metadata": {
        "id": "AL5_V1DRfyVe"
      },
      "source": [
        "### Tuples Q11\n",
        "\n",
        "**Problem:** Create a tuple using the `tuple()` constructor.\n",
        "\n",
        "**Expected answer should look like (example):**\n",
        "```\n",
        "tuple_from_iterable\n",
        "```"
      ],
      "id": "AL5_V1DRfyVe"
    },
    {
      "cell_type": "code",
      "execution_count": 40,
      "metadata": {
        "id": "J3H2rnqifyVf",
        "colab": {
          "base_uri": "https://localhost:8080/"
        },
        "outputId": "e8564b86-1243-423d-f783-d552b35c9bf7"
      },
      "outputs": [
        {
          "output_type": "stream",
          "name": "stdout",
          "text": [
            "(1, 2, 3)\n"
          ]
        }
      ],
      "source": [
        "my_list = [1, 2, 3]\n",
        "my_tuple = tuple(my_list)\n",
        "print(my_tuple)"
      ],
      "id": "J3H2rnqifyVf"
    },
    {
      "cell_type": "markdown",
      "metadata": {
        "id": "UZHJ8sV2fyVf"
      },
      "source": [
        "### Tuples Q12\n",
        "\n",
        "**Problem:** Use a `for` loop to iterate through a tuple.\n",
        "\n",
        "**Expected answer should look like (example):**\n",
        "```\n",
        "elements printed/processed\n",
        "```"
      ],
      "id": "UZHJ8sV2fyVf"
    },
    {
      "cell_type": "code",
      "execution_count": null,
      "metadata": {
        "id": "hWTzzxbQfyVf"
      },
      "outputs": [],
      "source": [
        "my_tuple = (1, 2, 3, 4, 5)\n",
        "for element in my_tuple:\n",
        "    print(element)"
      ],
      "id": "hWTzzxbQfyVf"
    },
    {
      "cell_type": "markdown",
      "metadata": {
        "id": "DrMe5TzIfyVf"
      },
      "source": [
        "### Tuples Q13\n",
        "\n",
        "**Problem:** Try modifying a tuple element and handle the error.\n",
        "\n",
        "**Expected answer should look like (example):**\n",
        "```\n",
        "TypeError handled\n",
        "```"
      ],
      "id": "DrMe5TzIfyVf"
    },
    {
      "cell_type": "code",
      "execution_count": 41,
      "metadata": {
        "id": "lKiryIUUfyVf",
        "colab": {
          "base_uri": "https://localhost:8080/"
        },
        "outputId": "31327817-9632-4e10-a457-96088acd569b"
      },
      "outputs": [
        {
          "output_type": "stream",
          "name": "stdout",
          "text": [
            "TypeError handled: 'tuple' object does not support item assignment\n"
          ]
        }
      ],
      "source": [
        "my_tuple = (1, 2, 3)\n",
        "try:\n",
        "    my_tuple[0] = 99\n",
        "except TypeError as e:\n",
        "    print(f\"TypeError handled: {e}\")"
      ],
      "id": "lKiryIUUfyVf"
    },
    {
      "cell_type": "markdown",
      "metadata": {
        "id": "YhvKphyXfyVf"
      },
      "source": [
        "### Tuples Q14\n",
        "\n",
        "**Problem:** Unpack a tuple into individual variables.\n",
        "\n",
        "**Expected answer should look like (example):**\n",
        "```\n",
        "a b c ... assigned\n",
        "```"
      ],
      "id": "YhvKphyXfyVf"
    },
    {
      "cell_type": "code",
      "execution_count": 42,
      "metadata": {
        "id": "OWtwQmw3fyVf",
        "colab": {
          "base_uri": "https://localhost:8080/"
        },
        "outputId": "9b1b8cc6-e6d0-4ca8-e67b-2c23f8a70723"
      },
      "outputs": [
        {
          "output_type": "stream",
          "name": "stdout",
          "text": [
            "a: 1, b: 2, c: 3\n"
          ]
        }
      ],
      "source": [
        "my_tuple = (1, 2, 3)\n",
        "a, b, c = my_tuple\n",
        "print(f\"a: {a}, b: {b}, c: {c}\")"
      ],
      "id": "OWtwQmw3fyVf"
    },
    {
      "cell_type": "markdown",
      "metadata": {
        "id": "MkF0atcFfyVf"
      },
      "source": [
        "### Tuples Q15\n",
        "\n",
        "**Problem:** Use a tuple inside a dictionary as a key.\n",
        "\n",
        "**Expected answer should look like (example):**\n",
        "```\n",
        "{(1,2): 'value'}\n",
        "```"
      ],
      "id": "MkF0atcFfyVf"
    },
    {
      "cell_type": "code",
      "execution_count": 43,
      "metadata": {
        "id": "6C4iwP6ZfyVf",
        "colab": {
          "base_uri": "https://localhost:8080/"
        },
        "outputId": "c449e2d3-19d7-40cc-95a0-5f4d4c808160"
      },
      "outputs": [
        {
          "output_type": "stream",
          "name": "stdout",
          "text": [
            "value1\n"
          ]
        }
      ],
      "source": [
        "my_dict = {(1, 2): 'value1', (3, 4): 'value2'}\n",
        "print(my_dict[(1, 2)])"
      ],
      "id": "6C4iwP6ZfyVf"
    },
    {
      "cell_type": "markdown",
      "metadata": {
        "id": "oqBDYfK6fyVf"
      },
      "source": [
        "### Tuples Q16\n",
        "\n",
        "**Problem:** Find the length of a tuple using `len()`.\n",
        "\n",
        "**Expected answer should look like (example):**\n",
        "```\n",
        "length_value\n",
        "```"
      ],
      "id": "oqBDYfK6fyVf"
    },
    {
      "cell_type": "code",
      "execution_count": 44,
      "metadata": {
        "id": "fcp9Leg2fyVf",
        "colab": {
          "base_uri": "https://localhost:8080/"
        },
        "outputId": "8013885b-9334-4ba5-a328-8892e40abc02"
      },
      "outputs": [
        {
          "output_type": "stream",
          "name": "stdout",
          "text": [
            "5\n"
          ]
        }
      ],
      "source": [
        "my_tuple = (10, 20, 30, 40, 50)\n",
        "tuple_length = len(my_tuple)\n",
        "print(tuple_length)"
      ],
      "id": "fcp9Leg2fyVf"
    },
    {
      "cell_type": "markdown",
      "metadata": {
        "id": "azW0Z5FRfyVf"
      },
      "source": [
        "### Tuples Q17\n",
        "\n",
        "**Problem:** Compare two tuples using relational operators.\n",
        "\n",
        "**Expected answer should look like (example):**\n",
        "```\n",
        "True/False based on lexicographic\n",
        "```"
      ],
      "id": "azW0Z5FRfyVf"
    },
    {
      "cell_type": "code",
      "execution_count": 45,
      "metadata": {
        "id": "DxFDZ_FPfyVg",
        "colab": {
          "base_uri": "https://localhost:8080/"
        },
        "outputId": "3e99039e-e98e-4194-f86b-ba9ecbbe2707"
      },
      "outputs": [
        {
          "output_type": "stream",
          "name": "stdout",
          "text": [
            "True\n",
            "True\n",
            "True\n"
          ]
        }
      ],
      "source": [
        "tuple1 = (1, 2, 3)\n",
        "tuple2 = (1, 2, 4)\n",
        "tuple3 = (1, 2)\n",
        "print(tuple1 < tuple2)\n",
        "print(tuple1 > tuple3)\n",
        "print(tuple1 == (1, 2, 3))"
      ],
      "id": "DxFDZ_FPfyVg"
    },
    {
      "cell_type": "markdown",
      "metadata": {
        "id": "vyvlq4bWfyVg"
      },
      "source": [
        "### Tuples Q18\n",
        "\n",
        "**Problem:** Use `max()` and `min()` with a tuple.\n",
        "\n",
        "**Expected answer should look like (example):**\n",
        "```\n",
        "max_value, min_value\n",
        "```"
      ],
      "id": "vyvlq4bWfyVg"
    },
    {
      "cell_type": "code",
      "execution_count": 46,
      "metadata": {
        "id": "62KgdnSAfyVg",
        "colab": {
          "base_uri": "https://localhost:8080/"
        },
        "outputId": "46b823a9-1a27-47f6-e590-e43c1eea8699"
      },
      "outputs": [
        {
          "output_type": "stream",
          "name": "stdout",
          "text": [
            "Maximum value: 25, Minimum value: 5\n"
          ]
        }
      ],
      "source": [
        "my_tuple = (10, 5, 20, 15, 25)\n",
        "max_value = max(my_tuple)\n",
        "min_value = min(my_tuple)\n",
        "print(f\"Maximum value: {max_value}, Minimum value: {min_value}\")"
      ],
      "id": "62KgdnSAfyVg"
    },
    {
      "cell_type": "markdown",
      "metadata": {
        "id": "HEENKlfkfyVg"
      },
      "source": [
        "### Tuples Q19\n",
        "\n",
        "**Problem:** Use a tuple inside another tuple and access nested values.\n",
        "\n",
        "**Expected answer should look like (example):**\n",
        "```\n",
        "nested_value\n",
        "```"
      ],
      "id": "HEENKlfkfyVg"
    },
    {
      "cell_type": "code",
      "execution_count": 47,
      "metadata": {
        "id": "URl8HuYFfyVg",
        "colab": {
          "base_uri": "https://localhost:8080/"
        },
        "outputId": "59f162ca-1e11-4bdf-ec35-1517092146d4"
      },
      "outputs": [
        {
          "output_type": "stream",
          "name": "stdout",
          "text": [
            "5\n"
          ]
        }
      ],
      "source": [
        "nested_tuple = ((1, 2), (3, 4, 5), (6, 7))\n",
        "nested_value = nested_tuple[1][2]\n",
        "print(nested_value)"
      ],
      "id": "URl8HuYFfyVg"
    },
    {
      "cell_type": "markdown",
      "metadata": {
        "id": "UzcLW_RPfyVg"
      },
      "source": [
        "### Tuples Q20\n",
        "\n",
        "**Problem:** Check the memory size of a tuple versus a list using `sys.getsizeof()`.\n",
        "\n",
        "**Expected answer should look like (example):**\n",
        "```\n",
        "e.g., tuple_size < list_size (often)\n",
        "```"
      ],
      "id": "UzcLW_RPfyVg"
    },
    {
      "cell_type": "code",
      "execution_count": 48,
      "metadata": {
        "id": "3CBhEviofyVg",
        "colab": {
          "base_uri": "https://localhost:8080/"
        },
        "outputId": "b1198739-f7bf-4b04-818e-2466defd2a17"
      },
      "outputs": [
        {
          "output_type": "stream",
          "name": "stdout",
          "text": [
            "Size of list: 104 bytes\n",
            "Size of tuple: 80 bytes\n"
          ]
        }
      ],
      "source": [
        "import sys\n",
        "\n",
        "my_list = [1, 2, 3, 4, 5]\n",
        "my_tuple = (1, 2, 3, 4, 5)\n",
        "\n",
        "list_size = sys.getsizeof(my_list)\n",
        "tuple_size = sys.getsizeof(my_tuple)\n",
        "\n",
        "print(f\"Size of list: {list_size} bytes\")\n",
        "print(f\"Size of tuple: {tuple_size} bytes\")"
      ],
      "id": "3CBhEviofyVg"
    },
    {
      "cell_type": "markdown",
      "metadata": {
        "id": "fd4yFydZfyVg"
      },
      "source": [
        "### Sets Q1\n",
        "\n",
        "**Problem:** Create a set with integers from 10 to 15.\n",
        "\n",
        "**Expected answer should look like (example):**\n",
        "```\n",
        "{10, 11, 12, 13, 14, 15} (order may vary)\n",
        "```"
      ],
      "id": "fd4yFydZfyVg"
    },
    {
      "cell_type": "code",
      "execution_count": 49,
      "metadata": {
        "id": "5qqGXfs0fyVg",
        "colab": {
          "base_uri": "https://localhost:8080/"
        },
        "outputId": "367dc406-3623-40df-ade0-1a7eddab43f9"
      },
      "outputs": [
        {
          "output_type": "stream",
          "name": "stdout",
          "text": [
            "{10, 11, 12, 13, 14, 15}\n"
          ]
        }
      ],
      "source": [
        "my_set = set(range(10, 16))\n",
        "print(my_set)"
      ],
      "id": "5qqGXfs0fyVg"
    },
    {
      "cell_type": "markdown",
      "metadata": {
        "id": "0iSowp2CfyVg"
      },
      "source": [
        "### Sets Q2\n",
        "\n",
        "**Problem:** Add multiple elements to a set using `update()`.\n",
        "\n",
        "**Expected answer should look like (example):**\n",
        "```\n",
        "{...includes new elements...}\n",
        "```"
      ],
      "id": "0iSowp2CfyVg"
    },
    {
      "cell_type": "code",
      "execution_count": 50,
      "metadata": {
        "id": "Z-upfIXtfyVg",
        "colab": {
          "base_uri": "https://localhost:8080/"
        },
        "outputId": "73299ab1-c755-4507-98f0-f7f141e554cf"
      },
      "outputs": [
        {
          "output_type": "stream",
          "name": "stdout",
          "text": [
            "{1, 2, 3, 4, 5, 6}\n"
          ]
        }
      ],
      "source": [
        "my_set = {1, 2, 3}\n",
        "my_set.update([4, 5, 6])\n",
        "print(my_set)"
      ],
      "id": "Z-upfIXtfyVg"
    },
    {
      "cell_type": "markdown",
      "metadata": {
        "id": "zAaYvSjvfyVg"
      },
      "source": [
        "### Sets Q3\n",
        "\n",
        "**Problem:** Check if a set is a subset of another set.\n",
        "\n",
        "**Expected answer should look like (example):**\n",
        "```\n",
        "True/False\n",
        "```"
      ],
      "id": "zAaYvSjvfyVg"
    },
    {
      "cell_type": "code",
      "execution_count": 51,
      "metadata": {
        "id": "XNQuqIzUfyVg",
        "colab": {
          "base_uri": "https://localhost:8080/"
        },
        "outputId": "b61d0a48-2045-4905-90c6-0c467749b221"
      },
      "outputs": [
        {
          "output_type": "stream",
          "name": "stdout",
          "text": [
            "True\n"
          ]
        }
      ],
      "source": [
        "set1 = {1, 2}\n",
        "set2 = {1, 2, 3, 4}\n",
        "print(set1.issubset(set2))"
      ],
      "id": "XNQuqIzUfyVg"
    },
    {
      "cell_type": "markdown",
      "metadata": {
        "id": "c0GUHapUfyVg"
      },
      "source": [
        "### Sets Q4\n",
        "\n",
        "**Problem:** Check if a set is a superset of another set.\n",
        "\n",
        "**Expected answer should look like (example):**\n",
        "```\n",
        "True/False\n",
        "```"
      ],
      "id": "c0GUHapUfyVg"
    },
    {
      "cell_type": "code",
      "execution_count": 52,
      "metadata": {
        "id": "OUKyM0_ufyVg",
        "colab": {
          "base_uri": "https://localhost:8080/"
        },
        "outputId": "2414e08c-6694-474e-af19-cd7df084dba9"
      },
      "outputs": [
        {
          "output_type": "stream",
          "name": "stdout",
          "text": [
            "True\n"
          ]
        }
      ],
      "source": [
        "set1 = {1, 2, 3, 4}\n",
        "set2 = {1, 2}\n",
        "print(set1.issuperset(set2))"
      ],
      "id": "OUKyM0_ufyVg"
    },
    {
      "cell_type": "markdown",
      "metadata": {
        "id": "53FrXj6NfyVh"
      },
      "source": [
        "### Sets Q5\n",
        "\n",
        "**Problem:** Find the difference between two sets.\n",
        "\n",
        "**Expected answer should look like (example):**\n",
        "```\n",
        "A - B set\n",
        "```"
      ],
      "id": "53FrXj6NfyVh"
    },
    {
      "cell_type": "code",
      "execution_count": 53,
      "metadata": {
        "id": "SbID0wZ3fyVh",
        "colab": {
          "base_uri": "https://localhost:8080/"
        },
        "outputId": "8b85880a-5b95-4a67-9f80-c9502acd0e0b"
      },
      "outputs": [
        {
          "output_type": "stream",
          "name": "stdout",
          "text": [
            "{1, 2, 3}\n",
            "{1, 2, 3}\n"
          ]
        }
      ],
      "source": [
        "set1 = {1, 2, 3, 4, 5}\n",
        "set2 = {4, 5, 6, 7, 8}\n",
        "difference_set = set1 - set2\n",
        "print(difference_set)\n",
        "\n",
        "# Alternatively, using the difference() method\n",
        "difference_set_method = set1.difference(set2)\n",
        "print(difference_set_method)"
      ],
      "id": "SbID0wZ3fyVh"
    },
    {
      "cell_type": "markdown",
      "metadata": {
        "id": "iC-Pvc3TfyVh"
      },
      "source": [
        "### Sets Q6\n",
        "\n",
        "**Problem:** Create a set of multiples of 3 from 1 to 15.\n",
        "\n",
        "**Expected answer should look like (example):**\n",
        "```\n",
        "{3, 6, 9, 12, 15}\n",
        "```"
      ],
      "id": "iC-Pvc3TfyVh"
    },
    {
      "cell_type": "code",
      "execution_count": 54,
      "metadata": {
        "id": "mgIRy9RvfyVh",
        "colab": {
          "base_uri": "https://localhost:8080/"
        },
        "outputId": "f554d219-906e-46ec-ee86-d70c5298cdcc"
      },
      "outputs": [
        {
          "output_type": "stream",
          "name": "stdout",
          "text": [
            "{3, 6, 9, 12, 15}\n"
          ]
        }
      ],
      "source": [
        "multiples_of_3 = {x for x in range(1, 16) if x % 3 == 0}\n",
        "print(multiples_of_3)"
      ],
      "id": "mgIRy9RvfyVh"
    },
    {
      "cell_type": "markdown",
      "metadata": {
        "id": "SwBOILWZfyVh"
      },
      "source": [
        "### Sets Q7\n",
        "\n",
        "**Problem:** Remove an element from a set using `discard()`.\n",
        "\n",
        "**Expected answer should look like (example):**\n",
        "```\n",
        "set without that element (no error if missing)\n",
        "```"
      ],
      "id": "SwBOILWZfyVh"
    },
    {
      "cell_type": "code",
      "execution_count": 55,
      "metadata": {
        "id": "vHtkwEOgfyVh",
        "colab": {
          "base_uri": "https://localhost:8080/"
        },
        "outputId": "07a5d788-4bbc-43c4-e30f-25e6393930d0"
      },
      "outputs": [
        {
          "output_type": "stream",
          "name": "stdout",
          "text": [
            "{1, 2, 4, 5}\n",
            "{1, 2, 4, 5}\n"
          ]
        }
      ],
      "source": [
        "my_set = {1, 2, 3, 4, 5}\n",
        "my_set.discard(3)\n",
        "print(my_set)\n",
        "\n",
        "# Discarding an element that is not in the set does not raise an error\n",
        "my_set.discard(6)\n",
        "print(my_set)"
      ],
      "id": "vHtkwEOgfyVh"
    },
    {
      "cell_type": "markdown",
      "metadata": {
        "id": "0bIs5h7KfyVh"
      },
      "source": [
        "### Sets Q8\n",
        "\n",
        "**Problem:** Check if a set is empty.\n",
        "\n",
        "**Expected answer should look like (example):**\n",
        "```\n",
        "True/False\n",
        "```"
      ],
      "id": "0bIs5h7KfyVh"
    },
    {
      "cell_type": "code",
      "execution_count": 56,
      "metadata": {
        "id": "ilBpbKVIfyVh",
        "colab": {
          "base_uri": "https://localhost:8080/"
        },
        "outputId": "472c05cd-9e45-4824-fa0d-f7638dc4ec35"
      },
      "outputs": [
        {
          "output_type": "stream",
          "name": "stdout",
          "text": [
            "False\n",
            "True\n",
            "False\n",
            "True\n"
          ]
        }
      ],
      "source": [
        "my_set1 = {1, 2, 3}\n",
        "my_set2 = set()\n",
        "\n",
        "print(len(my_set1) == 0)\n",
        "print(len(my_set2) == 0)\n",
        "\n",
        "# Alternatively\n",
        "print(my_set1 == set())\n",
        "print(my_set2 == set())"
      ],
      "id": "ilBpbKVIfyVh"
    },
    {
      "cell_type": "markdown",
      "metadata": {
        "id": "Ob4hYWQGfyVh"
      },
      "source": [
        "### Sets Q9\n",
        "\n",
        "**Problem:** Find the maximum element in a set.\n",
        "\n",
        "**Expected answer should look like (example):**\n",
        "```\n",
        "max_value\n",
        "```"
      ],
      "id": "Ob4hYWQGfyVh"
    },
    {
      "cell_type": "code",
      "execution_count": 57,
      "metadata": {
        "id": "b4bHmMIyfyVh",
        "colab": {
          "base_uri": "https://localhost:8080/"
        },
        "outputId": "68ef7af8-17b5-4785-9aac-075096700309"
      },
      "outputs": [
        {
          "output_type": "stream",
          "name": "stdout",
          "text": [
            "25\n"
          ]
        }
      ],
      "source": [
        "my_set = {10, 5, 20, 15, 25}\n",
        "max_value = max(my_set)\n",
        "print(max_value)"
      ],
      "id": "b4bHmMIyfyVh"
    },
    {
      "cell_type": "markdown",
      "metadata": {
        "id": "RHn1Kk-ufyVh"
      },
      "source": [
        "### Sets Q10\n",
        "\n",
        "**Problem:** Find the minimum element in a set.\n",
        "\n",
        "**Expected answer should look like (example):**\n",
        "```\n",
        "min_value\n",
        "```"
      ],
      "id": "RHn1Kk-ufyVh"
    },
    {
      "cell_type": "code",
      "execution_count": 58,
      "metadata": {
        "id": "ePKcbSaafyVh",
        "colab": {
          "base_uri": "https://localhost:8080/"
        },
        "outputId": "5aa85239-d2cd-4ed4-fc0a-d165e5b06df2"
      },
      "outputs": [
        {
          "output_type": "stream",
          "name": "stdout",
          "text": [
            "5\n"
          ]
        }
      ],
      "source": [
        "my_set = {10, 5, 20, 15, 25}\n",
        "min_value = min(my_set)\n",
        "print(min_value)"
      ],
      "id": "ePKcbSaafyVh"
    },
    {
      "cell_type": "markdown",
      "metadata": {
        "id": "AzYVe4E2fyVh"
      },
      "source": [
        "### Sets Q11\n",
        "\n",
        "**Problem:** Create a frozen set with elements 'a', 'b', and 'c'.\n",
        "\n",
        "**Expected answer should look like (example):**\n",
        "```\n",
        "frozenset({'a','b','c'})\n",
        "```"
      ],
      "id": "AzYVe4E2fyVh"
    },
    {
      "cell_type": "code",
      "execution_count": 59,
      "metadata": {
        "id": "AhMpp5WdfyVh",
        "colab": {
          "base_uri": "https://localhost:8080/"
        },
        "outputId": "b08a5219-f5c7-4c6a-ca3a-c0fb1de93c1f"
      },
      "outputs": [
        {
          "output_type": "stream",
          "name": "stdout",
          "text": [
            "frozenset({'c', 'b', 'a'})\n"
          ]
        }
      ],
      "source": [
        "my_frozen_set = frozenset({'a', 'b', 'c'})\n",
        "print(my_frozen_set)"
      ],
      "id": "AhMpp5WdfyVh"
    },
    {
      "cell_type": "markdown",
      "metadata": {
        "id": "b7SIy4MWfyVh"
      },
      "source": [
        "### Sets Q12\n",
        "\n",
        "**Problem:** Check if a frozen set is immutable by attempting to add an element.\n",
        "\n",
        "**Expected answer should look like (example):**\n",
        "```\n",
        "AttributeError shown/handled\n",
        "```"
      ],
      "id": "b7SIy4MWfyVh"
    },
    {
      "cell_type": "code",
      "execution_count": 60,
      "metadata": {
        "id": "kaW8KcrnfyVi",
        "colab": {
          "base_uri": "https://localhost:8080/"
        },
        "outputId": "540efdfa-2e99-4b23-f531-90a8f70623aa"
      },
      "outputs": [
        {
          "output_type": "stream",
          "name": "stdout",
          "text": [
            "AttributeError handled: 'frozenset' object has no attribute 'add'\n"
          ]
        }
      ],
      "source": [
        "my_frozen_set = frozenset({1, 2, 3})\n",
        "try:\n",
        "    my_frozen_set.add(4)\n",
        "except AttributeError as e:\n",
        "    print(f\"AttributeError handled: {e}\")"
      ],
      "id": "kaW8KcrnfyVi"
    },
    {
      "cell_type": "markdown",
      "metadata": {
        "id": "u4PGg21HfyVi"
      },
      "source": [
        "### Sets Q13\n",
        "\n",
        "**Problem:** Find the union of a frozen set with a regular set.\n",
        "\n",
        "**Expected answer should look like (example):**\n",
        "```\n",
        "combined set\n",
        "```"
      ],
      "id": "u4PGg21HfyVi"
    },
    {
      "cell_type": "code",
      "execution_count": 61,
      "metadata": {
        "id": "CFjOTXsAfyVi",
        "colab": {
          "base_uri": "https://localhost:8080/"
        },
        "outputId": "17d32df1-e251-4135-9f35-03f29f5a7291"
      },
      "outputs": [
        {
          "output_type": "stream",
          "name": "stdout",
          "text": [
            "frozenset({1, 2, 3, 4, 5})\n",
            "frozenset({1, 2, 3, 4, 5})\n"
          ]
        }
      ],
      "source": [
        "frozen_set = frozenset({1, 2, 3})\n",
        "regular_set = {3, 4, 5}\n",
        "union_set = frozen_set.union(regular_set)\n",
        "print(union_set)\n",
        "\n",
        "# Alternatively using the | operator\n",
        "union_set_operator = frozen_set | regular_set\n",
        "print(union_set_operator)"
      ],
      "id": "CFjOTXsAfyVi"
    },
    {
      "cell_type": "markdown",
      "metadata": {
        "id": "l1AxUrgbfyVi"
      },
      "source": [
        "### Sets Q14\n",
        "\n",
        "**Problem:** Convert a list with duplicate elements into a set to remove duplicates.\n",
        "\n",
        "**Expected answer should look like (example):**\n",
        "```\n",
        "{unique_elements}\n",
        "```"
      ],
      "id": "l1AxUrgbfyVi"
    },
    {
      "cell_type": "code",
      "execution_count": 62,
      "metadata": {
        "id": "uGYqDg-EfyVi",
        "colab": {
          "base_uri": "https://localhost:8080/"
        },
        "outputId": "f30f4a54-ad63-4480-fe96-aa2b9186ce77"
      },
      "outputs": [
        {
          "output_type": "stream",
          "name": "stdout",
          "text": [
            "{1, 2, 3, 4, 5}\n"
          ]
        }
      ],
      "source": [
        "my_list = [1, 2, 2, 3, 4, 4, 5]\n",
        "my_set = set(my_list)\n",
        "print(my_set)"
      ],
      "id": "uGYqDg-EfyVi"
    },
    {
      "cell_type": "markdown",
      "metadata": {
        "id": "LNVwzH2dfyVi"
      },
      "source": [
        "### Sets Q15\n",
        "\n",
        "**Problem:** Create a set comprehension to generate squares of numbers from 1 to 5.\n",
        "\n",
        "**Expected answer should look like (example):**\n",
        "```\n",
        "{1,4,9,16,25}\n",
        "```"
      ],
      "id": "LNVwzH2dfyVi"
    },
    {
      "cell_type": "code",
      "execution_count": 63,
      "metadata": {
        "id": "ZL075CBkfyVi",
        "colab": {
          "base_uri": "https://localhost:8080/"
        },
        "outputId": "3cd3f504-b09d-4a3e-e7ac-9ee25a2297f0"
      },
      "outputs": [
        {
          "output_type": "stream",
          "name": "stdout",
          "text": [
            "{1, 4, 9, 16, 25}\n"
          ]
        }
      ],
      "source": [
        "squares_set = {x**2 for x in range(1, 6)}\n",
        "print(squares_set)"
      ],
      "id": "ZL075CBkfyVi"
    },
    {
      "cell_type": "markdown",
      "metadata": {
        "id": "D0DqSpwUfyVi"
      },
      "source": [
        "### Sets Q16\n",
        "\n",
        "**Problem:** Use the `intersection()` method on two sets.\n",
        "\n",
        "**Expected answer should look like (example):**\n",
        "```\n",
        "A ∩ B\n",
        "```"
      ],
      "id": "D0DqSpwUfyVi"
    },
    {
      "cell_type": "code",
      "execution_count": 64,
      "metadata": {
        "id": "CSbQd9H8fyVi",
        "colab": {
          "base_uri": "https://localhost:8080/"
        },
        "outputId": "a1e47b25-74fb-4273-9dba-267960872a60"
      },
      "outputs": [
        {
          "output_type": "stream",
          "name": "stdout",
          "text": [
            "{4, 5}\n",
            "{4, 5}\n"
          ]
        }
      ],
      "source": [
        "set1 = {1, 2, 3, 4, 5}\n",
        "set2 = {4, 5, 6, 7, 8}\n",
        "intersection_set = set1.intersection(set2)\n",
        "print(intersection_set)\n",
        "\n",
        "# Alternatively using the & operator\n",
        "intersection_set_operator = set1 & set2\n",
        "print(intersection_set_operator)"
      ],
      "id": "CSbQd9H8fyVi"
    },
    {
      "cell_type": "markdown",
      "metadata": {
        "id": "q2Zf6kwEfyVi"
      },
      "source": [
        "### Sets Q17\n",
        "\n",
        "**Problem:** Use `symmetric_difference()` between two sets.\n",
        "\n",
        "**Expected answer should look like (example):**\n",
        "```\n",
        "(A Δ B) set\n",
        "```"
      ],
      "id": "q2Zf6kwEfyVi"
    },
    {
      "cell_type": "code",
      "execution_count": 68,
      "metadata": {
        "id": "JJOjcx6MfyVi",
        "colab": {
          "base_uri": "https://localhost:8080/"
        },
        "outputId": "a1319522-c1b1-431c-c8b2-5f140d5fc8ed"
      },
      "outputs": [
        {
          "output_type": "stream",
          "name": "stdout",
          "text": [
            "{1, 2, 3, 6, 7, 8}\n",
            "{1, 2, 3, 6, 7, 8}\n"
          ]
        }
      ],
      "source": [
        "set1 = {1, 2, 3, 4, 5}\n",
        "set2 = {4, 5, 6, 7, 8}\n",
        "symmetric_difference_set = set1.symmetric_difference(set2)\n",
        "print(symmetric_difference_set)\n",
        "\n",
        "# Alternatively using the ^ operator\n",
        "symmetric_difference_set_operator = set1 ^ set2\n",
        "print(symmetric_difference_set_operator)"
      ],
      "id": "JJOjcx6MfyVi"
    },
    {
      "cell_type": "markdown",
      "metadata": {
        "id": "iyPjq03kfyVj"
      },
      "source": [
        "### Sets Q18\n",
        "\n",
        "**Problem:** Iterate over elements of a set using a loop.\n",
        "\n",
        "**Expected answer should look like (example):**\n",
        "```\n",
        "elements printed (order arbitrary)\n",
        "```"
      ],
      "id": "iyPjq03kfyVj"
    },
    {
      "cell_type": "code",
      "execution_count": 67,
      "metadata": {
        "id": "kchujqXKfyVj",
        "colab": {
          "base_uri": "https://localhost:8080/"
        },
        "outputId": "344b2319-ed5f-4fa0-dd71-963791437dd1"
      },
      "outputs": [
        {
          "output_type": "stream",
          "name": "stdout",
          "text": [
            "1\n",
            "2\n",
            "3\n",
            "4\n",
            "5\n"
          ]
        }
      ],
      "source": [
        "my_set = {1, 2, 3, 4, 5}\n",
        "for element in my_set:\n",
        "    print(element)"
      ],
      "id": "kchujqXKfyVj"
    },
    {
      "cell_type": "markdown",
      "metadata": {
        "id": "hxzkafUefyVj"
      },
      "source": [
        "### Sets Q19\n",
        "\n",
        "**Problem:** Count elements in a set using `len()`.\n",
        "\n",
        "**Expected answer should look like (example):**\n",
        "```\n",
        "integer_count\n",
        "```"
      ],
      "id": "hxzkafUefyVj"
    },
    {
      "cell_type": "code",
      "execution_count": 66,
      "metadata": {
        "id": "M5lUlSKUfyVj",
        "colab": {
          "base_uri": "https://localhost:8080/"
        },
        "outputId": "0e82c3cc-afff-4c5e-e54e-47afd00516cd"
      },
      "outputs": [
        {
          "output_type": "stream",
          "name": "stdout",
          "text": [
            "5\n"
          ]
        }
      ],
      "source": [
        "my_set = {1, 2, 3, 4, 5}\n",
        "set_count = len(my_set)\n",
        "print(set_count)"
      ],
      "id": "M5lUlSKUfyVj"
    },
    {
      "cell_type": "markdown",
      "metadata": {
        "id": "60brTOPlfyVj"
      },
      "source": [
        "### Sets Q20\n",
        "\n",
        "**Problem:** Copy a set using `copy()` and verify it is separate.\n",
        "\n",
        "**Expected answer should look like (example):**\n",
        "```\n",
        "True when A is B is False; mutation doesn't affect copy\n",
        "```"
      ],
      "id": "60brTOPlfyVj"
    },
    {
      "cell_type": "code",
      "execution_count": 65,
      "metadata": {
        "id": "_9s80IdsfyVj",
        "colab": {
          "base_uri": "https://localhost:8080/"
        },
        "outputId": "928b1953-204c-4b86-96e0-3f74b0397648"
      },
      "outputs": [
        {
          "output_type": "stream",
          "name": "stdout",
          "text": [
            "Original set before modification: {1, 2, 3, 4}\n",
            "Copied set before modification: {1, 2, 3, 4}\n",
            "Are the original and copy the same object? False\n",
            "Original set after modification: {1, 2, 3, 4, 5}\n",
            "Copied set after modification: {1, 2, 3, 4}\n"
          ]
        }
      ],
      "source": [
        "my_set = {1, 2, 3, 4}\n",
        "my_set_copy = my_set.copy()\n",
        "\n",
        "print(f\"Original set before modification: {my_set}\")\n",
        "print(f\"Copied set before modification: {my_set_copy}\")\n",
        "print(f\"Are the original and copy the same object? {my_set is my_set_copy}\")\n",
        "\n",
        "my_set.add(5)\n",
        "\n",
        "print(f\"Original set after modification: {my_set}\")\n",
        "print(f\"Copied set after modification: {my_set_copy}\")"
      ],
      "id": "_9s80IdsfyVj"
    },
    {
      "cell_type": "markdown",
      "metadata": {
        "id": "SpYizfRbfyVl"
      },
      "source": [
        "## Submission Note\n",
        "\n",
        "Dear student, kindly save this file on your computer and fill the assignment form that is there in your WhatsApp group to submit this assignment."
      ],
      "id": "SpYizfRbfyVl"
    }
  ],
  "metadata": {
    "kernelspec": {
      "display_name": "Python 3",
      "language": "python",
      "name": "python3"
    },
    "language_info": {
      "codemirror_mode": {
        "name": "ipython",
        "version": 3
      },
      "file_extension": ".py",
      "mimetype": "text/x-python",
      "name": "python",
      "nbconvert_exporter": "python",
      "pygments_lexer": "ipython3",
      "version": "3.11.8"
    },
    "colab": {
      "provenance": [],
      "include_colab_link": true
    }
  },
  "nbformat": 4,
  "nbformat_minor": 5
}